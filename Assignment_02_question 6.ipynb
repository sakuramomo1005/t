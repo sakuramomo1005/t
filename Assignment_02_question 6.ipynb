{
 "cells": [
  {
   "cell_type": "markdown",
   "metadata": {},
   "source": [
    "# Pandas and Matplotlib Homework"
   ]
  },
  {
   "cell_type": "markdown",
   "metadata": {},
   "source": [
    "# Q6) Write a function(s)  \n",
    "## that subsets a dataframe by removing rows that are WITHIN the InterQuartile Region of a specified column\n",
    "<br> </br>\n",
    "### The function takes as input \n",
    "##### A: Pandas_Dataframe (For example use NHL_GoaliesDF)\n",
    "##### B. Column name\n",
    "### Add a condition that returns an error if the Column Name chosen is not:\n",
    "##### A. Numeric Dtype\n",
    "##### B. Does not exist in the Numeric Columns\n",
    "### The output is a DataFrame that removes rows outside of the specified columns IQR\n",
    "<br> </br>\n",
    "<font color='red'>**You can use smaller helper functions **<font>\n",
    "<br> </br>\n",
    "See --> <href>=https://en.wikipedia.org/wiki/Interquartile_range</href>\n",
    "#hint: There are several pandas subfunctions that can be useful"
   ]
  },
  {
   "cell_type": "code",
   "execution_count": 69,
   "metadata": {},
   "outputs": [],
   "source": [
    "def iqr(data,col_name):\n",
    "    # 判断输入的col name 的类型，如果是string，就变成dataframe\n",
    "    if type(col_name) == str:\n",
    "        col_name = [col_name]\n",
    "    # count是count输入的col name 有多少个是int的    \n",
    "    count = 0\n",
    "    for cn in col_name:\n",
    "        if data[cn].dtypes in ['float','int']:\n",
    "            count = count+1\n",
    "    # 如果输入的全是int 的col name，就走下面这一步，筛选出来 colname\n",
    "    if count == len(col_name):\n",
    "        x = data[col_name]\n",
    "        q75, q25 = np.percentile(x, [75 ,25])\n",
    "        res = pd.DataFrame(data[(data[col_name] < q25) | (data[col_name] > q75)][col_name]).reset_index(drop=True)\n",
    "        return(res)\n",
    "    # 如果不是的话就 print not a number\n",
    "    else:\n",
    "        print('not a number')"
   ]
  },
  {
   "cell_type": "markdown",
   "metadata": {},
   "source": [
    "输入一个不是number 的column"
   ]
  },
  {
   "cell_type": "code",
   "execution_count": 72,
   "metadata": {
    "scrolled": true
   },
   "outputs": [
    {
     "name": "stdout",
     "output_type": "stream",
     "text": [
      "not a number\n"
     ]
    }
   ],
   "source": [
    "iqr(mergedDF, 'First Name_x')"
   ]
  },
  {
   "cell_type": "markdown",
   "metadata": {},
   "source": [
    "输入一个是number的column"
   ]
  },
  {
   "cell_type": "code",
   "execution_count": 74,
   "metadata": {
    "scrolled": true
   },
   "outputs": [
    {
     "data": {
      "text/html": [
       "<div>\n",
       "<style scoped>\n",
       "    .dataframe tbody tr th:only-of-type {\n",
       "        vertical-align: middle;\n",
       "    }\n",
       "\n",
       "    .dataframe tbody tr th {\n",
       "        vertical-align: top;\n",
       "    }\n",
       "\n",
       "    .dataframe thead th {\n",
       "        text-align: right;\n",
       "    }\n",
       "</style>\n",
       "<table border=\"1\" class=\"dataframe\">\n",
       "  <thead>\n",
       "    <tr style=\"text-align: right;\">\n",
       "      <th></th>\n",
       "      <th>TOI</th>\n",
       "    </tr>\n",
       "  </thead>\n",
       "  <tbody>\n",
       "    <tr>\n",
       "      <th>0</th>\n",
       "      <td>2997.20</td>\n",
       "    </tr>\n",
       "    <tr>\n",
       "      <th>1</th>\n",
       "      <td>NaN</td>\n",
       "    </tr>\n",
       "    <tr>\n",
       "      <th>2</th>\n",
       "      <td>NaN</td>\n",
       "    </tr>\n",
       "    <tr>\n",
       "      <th>3</th>\n",
       "      <td>NaN</td>\n",
       "    </tr>\n",
       "    <tr>\n",
       "      <th>4</th>\n",
       "      <td>2947.94</td>\n",
       "    </tr>\n",
       "  </tbody>\n",
       "</table>\n",
       "</div>"
      ],
      "text/plain": [
       "       TOI\n",
       "0  2997.20\n",
       "1      NaN\n",
       "2      NaN\n",
       "3      NaN\n",
       "4  2947.94"
      ]
     },
     "execution_count": 74,
     "metadata": {},
     "output_type": "execute_result"
    }
   ],
   "source": [
    "iqr(mergedDF, 'TOI').head()"
   ]
  },
  {
   "cell_type": "markdown",
   "metadata": {},
   "source": [
    "输入两是number 的column"
   ]
  },
  {
   "cell_type": "code",
   "execution_count": 75,
   "metadata": {},
   "outputs": [
    {
     "data": {
      "text/html": [
       "<div>\n",
       "<style scoped>\n",
       "    .dataframe tbody tr th:only-of-type {\n",
       "        vertical-align: middle;\n",
       "    }\n",
       "\n",
       "    .dataframe tbody tr th {\n",
       "        vertical-align: top;\n",
       "    }\n",
       "\n",
       "    .dataframe thead th {\n",
       "        text-align: right;\n",
       "    }\n",
       "</style>\n",
       "<table border=\"1\" class=\"dataframe\">\n",
       "  <thead>\n",
       "    <tr style=\"text-align: right;\">\n",
       "      <th></th>\n",
       "      <th>TOI</th>\n",
       "      <th>GA_x</th>\n",
       "    </tr>\n",
       "  </thead>\n",
       "  <tbody>\n",
       "    <tr>\n",
       "      <th>0</th>\n",
       "      <td>2997.20</td>\n",
       "      <td>NaN</td>\n",
       "    </tr>\n",
       "    <tr>\n",
       "      <th>1</th>\n",
       "      <td>1908.44</td>\n",
       "      <td>59.0</td>\n",
       "    </tr>\n",
       "    <tr>\n",
       "      <th>2</th>\n",
       "      <td>1535.89</td>\n",
       "      <td>57.0</td>\n",
       "    </tr>\n",
       "    <tr>\n",
       "      <th>3</th>\n",
       "      <td>1700.08</td>\n",
       "      <td>NaN</td>\n",
       "    </tr>\n",
       "    <tr>\n",
       "      <th>4</th>\n",
       "      <td>2947.94</td>\n",
       "      <td>NaN</td>\n",
       "    </tr>\n",
       "  </tbody>\n",
       "</table>\n",
       "</div>"
      ],
      "text/plain": [
       "       TOI  GA_x\n",
       "0  2997.20   NaN\n",
       "1  1908.44  59.0\n",
       "2  1535.89  57.0\n",
       "3  1700.08   NaN\n",
       "4  2947.94   NaN"
      ]
     },
     "execution_count": 75,
     "metadata": {},
     "output_type": "execute_result"
    }
   ],
   "source": [
    "iqr(mergedDF, ['TOI', 'GA_x']).head()"
   ]
  }
 ],
 "metadata": {
  "kernelspec": {
   "display_name": "Python 3",
   "language": "python",
   "name": "python3"
  },
  "language_info": {
   "codemirror_mode": {
    "name": "ipython",
    "version": 3
   },
   "file_extension": ".py",
   "mimetype": "text/x-python",
   "name": "python",
   "nbconvert_exporter": "python",
   "pygments_lexer": "ipython3",
   "version": "3.6.6"
  }
 },
 "nbformat": 4,
 "nbformat_minor": 2
}
