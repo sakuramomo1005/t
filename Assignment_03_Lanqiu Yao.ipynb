{
 "cells": [
  {
   "cell_type": "markdown",
   "metadata": {},
   "source": [
    "# Introduction to Programming (Fall 2018)\n",
    "\n",
    "## Assignment 3 (Due date: 18 Nov 2018, by midnight)"
   ]
  },
  {
   "cell_type": "markdown",
   "metadata": {},
   "source": [
    "### Question 1\n",
    "\n",
    "#### String Handling\n",
    "#### 1.1) \n",
    "Complete the following function which checks whether a DNA sequence is valid. A valid DNA sequence will only contain **'A,a,C,c,G,g,T,t'** characters for this question. If the sequence is valid return **True**, otherwise return **False**.\n",
    "\n",
    "*When running the block, the assert statements will raise errors if your program does not return the correct response.*\n"
   ]
  },
  {
   "cell_type": "code",
   "execution_count": 1,
   "metadata": {},
   "outputs": [],
   "source": [
    "def validity_check(sequence):\n",
    "    temp = [i for i in range(len(sequence)) if sequence[i] in ['A','G','C','T','a','g','c','t']]\n",
    "    if len(temp) == len(sequence):\n",
    "        return True\n",
    "    else:\n",
    "        return False"
   ]
  },
  {
   "cell_type": "code",
   "execution_count": 2,
   "metadata": {
    "scrolled": true
   },
   "outputs": [
    {
     "data": {
      "text/plain": [
       "True"
      ]
     },
     "execution_count": 2,
     "metadata": {},
     "output_type": "execute_result"
    }
   ],
   "source": [
    "validity_check('ACGT')"
   ]
  },
  {
   "cell_type": "code",
   "execution_count": 3,
   "metadata": {},
   "outputs": [
    {
     "data": {
      "text/plain": [
       "False"
      ]
     },
     "execution_count": 3,
     "metadata": {},
     "output_type": "execute_result"
    }
   ],
   "source": [
    "validity_check('AGUC')"
   ]
  },
  {
   "cell_type": "code",
   "execution_count": 4,
   "metadata": {},
   "outputs": [
    {
     "data": {
      "text/plain": [
       "False"
      ]
     },
     "execution_count": 4,
     "metadata": {},
     "output_type": "execute_result"
    }
   ],
   "source": [
    "validity_check('PPPP')"
   ]
  },
  {
   "cell_type": "code",
   "execution_count": 5,
   "metadata": {},
   "outputs": [],
   "source": [
    "assert validity_check('ACGT') == True, 'validity_check(\"ACGT\") returns False, should return True'\n",
    "assert validity_check('acgt') == True, 'validity_check(\"acgt\") returns False, should return True'\n",
    "assert validity_check('AGUC') == False, 'validity_check(\"AGUC\") returns True, should return False'\n",
    "assert validity_check('PPPP') == False, 'validity_check(\"PPPP\") returns True, should return False'"
   ]
  },
  {
   "cell_type": "markdown",
   "metadata": {},
   "source": [
    "#### 1.2)\n",
    "Complete the following function which will return the reverse complement of a DNA sequence.\n",
    "\n",
    "The reverse complement is calculated by reversing the sequence and substituting: \n",
    "+ 'A' with 'T'\n",
    "+ 'T' with 'A'\n",
    "+ 'G' with 'C'\n",
    "+ 'C' with 'G'\n",
    "\n",
    "EG:\n",
    "```\n",
    "reverse_complement('AATC')\n",
    "\n",
    "step 1 - reverse the sequence:\n",
    "    reverse = 'CTAA'\n",
    "    \n",
    "step 2 - replace the characters with their complement:\n",
    "    'C' -> 'G'\n",
    "    'T' -> 'A'\n",
    "    'A' -> 'T'\n",
    "    'A' -> 'T'\n",
    "    \n",
    "    complement = 'GATT' \n",
    "```\n",
    "\n",
    "*When running the block, the assert statements will raise errors if your program does not return the correct response.*"
   ]
  },
  {
   "cell_type": "code",
   "execution_count": 6,
   "metadata": {},
   "outputs": [],
   "source": [
    "def reverse_complement(sequence):\n",
    "    sequence = sequence.upper()\n",
    "    s = sequence[::-1]\n",
    "    s = s.replace('A','1')\n",
    "    s = s.replace('G','2')\n",
    "    s = s.replace('C','3')\n",
    "    s = s.replace('T','4')\n",
    "    \n",
    "    s = s.replace('1','T')\n",
    "    s = s.replace('2','C')\n",
    "    s = s.replace('3','G')\n",
    "    s = s.replace('4','A')\n",
    "    return s"
   ]
  },
  {
   "cell_type": "code",
   "execution_count": 7,
   "metadata": {},
   "outputs": [],
   "source": [
    "assert reverse_complement('AAGCT') == 'AGCTT', 'reverse_complement(\"AAGCT\") should return \"AGCTT\"'\n",
    "assert reverse_complement('tggca') in ['tgcca','TGCCA'], 'reverse_complement(\"tggca\") should return \"tgcca\"'"
   ]
  },
  {
   "cell_type": "markdown",
   "metadata": {},
   "source": [
    "#### 1.3)\n",
    "\n",
    "Write a script which will allow a user to input multiple DNA sequences one at a time. You do not know how many in advance and should take this into account. Your code will then check if the sequence is valid and return the reverse complement if it is. If the sequence is not valid, print an error message alerting the user to this.\n",
    "\n",
    "It would be a good idea to use the functions you created in 1.1 and 1.2\n",
    "\n",
    "```\n",
    "PSEUDOCODE:\n",
    "loop until '' is entered:\n",
    "    prompt user for a new seq\n",
    "    if seq is valid:\n",
    "        output reverse complement\n",
    "    else\n",
    "        output error message indicating that sequence was invalid\n",
    "```"
   ]
  },
  {
   "cell_type": "code",
   "execution_count": 8,
   "metadata": {},
   "outputs": [
    {
     "name": "stdout",
     "output_type": "stream",
     "text": [
      "input your sequence: 'AAGCT'\n",
      "sequence was invalid\n",
      "input your sequence: 123\n",
      "sequence was invalid\n",
      "input your sequence: ''\n",
      "sequence was invalid\n"
     ]
    }
   ],
   "source": [
    "while True:\n",
    "    seq = input('input your sequence: ')\n",
    "    if validity_check(seq):\n",
    "        print(reverse_complement(seq))\n",
    "    else:\n",
    "        print('sequence was invalid')\n",
    "    if seq == \"''\":\n",
    "        break"
   ]
  },
  {
   "cell_type": "markdown",
   "metadata": {},
   "source": [
    "### Question 2\n",
    "\n",
    "In cryptography there are many ways to code messages. An easy method is to shift the alphabet by a given amount, this is known as a Caesar Cipher http://practicalcryptography.com/ciphers/caesar-cipher/.\n",
    "\n",
    "EG:\n",
    "\n",
    "Shift|A|B|C|D|E|F|G|H|I|J|K|L|M|N|O|P|Q|R|S|T|U|V|W|X|Y|Z|\n",
    "-|-|-|-|-|-|-|-|-|-|-|-|-|-|-|-|-|-|-|-|-|-|-|-|-|-|-|\n",
    "1|B|C|D|E|F|G|H|I|J|K|L|M|N|O|P|Q|R|S|T|U|V|W|X|Y|Z|A|\n",
    "2|C|D|E|F|G|H|I|J|K|L|M|N|O|P|Q|R|S|T|U|V|W|X|Y|Z|A|B|\n",
    "10|K|L|M|N|O|P|Q|R|S|T|U|V|W|X|Y|Z|A|B|C|D|E|F|G|H|I|J|\n",
    "\n",
    "In the case of using an alphabet which has been shifted by 1, 'A' will be replaced with 'B', 'B' will be replaced with 'C', ..., 'Z' is replaced with 'A'.\n",
    "\n",
    "#### 2.1)\n",
    "Complete the following function which takes a string and an integer which represents the shift and returns an encoded string."
   ]
  },
  {
   "cell_type": "code",
   "execution_count": 9,
   "metadata": {},
   "outputs": [],
   "source": [
    "def encode_string(message, shift=5):\n",
    "    m = ''\n",
    "    for i in message:\n",
    "        num = ord(i) + shift\n",
    "        if num > 90:\n",
    "            num = num -26\n",
    "        m = m+ chr(num)\n",
    "    #temp = [ord(i) + shift for i in message]\n",
    "    #message = ''.join(chr(i) for i in temp)\n",
    "    return m"
   ]
  },
  {
   "cell_type": "code",
   "execution_count": 10,
   "metadata": {
    "scrolled": true
   },
   "outputs": [],
   "source": [
    "assert encode_string('ABCD', 1) == 'BCDE', \"encode_string('ABCD', 1) should return 'BCDE'\"\n",
    "assert encode_string('FOOBAR', 3) == 'IRREDU', \"encode_string('FOOBAR', 3) should return 'IRREDU'\"\n",
    "assert encode_string('XYZ') == 'CDE', \"encode_string('XYZ', 3) should return 'CDE'\""
   ]
  },
  {
   "cell_type": "markdown",
   "metadata": {},
   "source": [
    "#### 2.2)\n",
    "\n",
    "Complete the following function which takes a string and an integer which represents the shift and returns the decoded message"
   ]
  },
  {
   "cell_type": "code",
   "execution_count": 12,
   "metadata": {},
   "outputs": [],
   "source": [
    "def decode_string(message, shift=5):\n",
    "    m = ''\n",
    "    for i in message:\n",
    "        num = ord(i) - shift\n",
    "        if num < 65:\n",
    "            num = num + 26\n",
    "        m = m+ chr(num)\n",
    "    #temp = [ord(i) + shift for i in message]\n",
    "    #message = ''.join(chr(i) for i in temp)\n",
    "    return m"
   ]
  },
  {
   "cell_type": "code",
   "execution_count": 13,
   "metadata": {},
   "outputs": [],
   "source": [
    "assert decode_string('MNO', 10) == 'CDE', \"decode_string('MNO', 10) should return 'CDE'\"\n",
    "assert decode_string('PYTHON') == 'KTOCJI', \"decode_string('PYTHON') should return 'KTOCJI'\"\n",
    "\n",
    "assert decode_string(encode_string('ABCD', 1), 1) == 'ABCD', \"decode_string(encode_string('ABCD', 1), 1) should return 'ABCD'\"\n",
    "assert decode_string(encode_string('FOOBAR', 3), 3) == 'FOOBAR', \"decode_string(encode_string('FOOBAR', 3), 3) should return 'FOOBAR'\"\n",
    "assert decode_string(encode_string('XYZ')) == 'XYZ', \"decode_string(encode_string('XYZ')) should return 'XYZ'\""
   ]
  },
  {
   "cell_type": "markdown",
   "metadata": {},
   "source": [
    "### Question 3\n",
    "\n",
    "Write code which will reproduce each of the following patterns given an input size N\n",
    "\n",
    "Example:\n",
    "\n",
    "```\n",
    "N = 10\n",
    "\n",
    " x x x x x x x x x x\n",
    " x o x o x o x o x o\n",
    " x x x x x x x x x x\n",
    " x o x o x o x o x o\n",
    " x x x x x x x x x x\n",
    " x o x o x o x o x o\n",
    " x x x x x x x x x x\n",
    " x o x o x o x o x o\n",
    " x x x x x x x x x x\n",
    " x o x o x o x o x o\n",
    "\n",
    "```"
   ]
  },
  {
   "cell_type": "code",
   "execution_count": 14,
   "metadata": {},
   "outputs": [
    {
     "name": "stdout",
     "output_type": "stream",
     "text": [
      " x x x x x x x x x x\n",
      " x o x o x o x o x o\n",
      " x x x x x x x x x x\n",
      " x o x o x o x o x o\n",
      " x x x x x x x x x x\n",
      " x o x o x o x o x o\n",
      " x x x x x x x x x x\n",
      " x o x o x o x o x o\n",
      " x x x x x x x x x x\n",
      " x o x o x o x o x o\n"
     ]
    }
   ],
   "source": [
    "N = 10\n",
    "pattern = [[' o' for x in range(N)] for y in range(N)]\n",
    "\n",
    "for j in range(N):\n",
    "    for i  in range(N):\n",
    "        if j%2 == 0 or i%2 == 0:\n",
    "            pattern[j][i] = ' x'\n",
    "\n",
    "for row in pattern:\n",
    "    print(''.join(row))"
   ]
  },
  {
   "cell_type": "markdown",
   "metadata": {},
   "source": [
    "#### 3.1)\n",
    "\n",
    "```\n",
    "N = 10\n",
    "\n",
    " x x x x x x x x x x\n",
    " x o o o o o o o o x\n",
    " x o o o o o o o o x\n",
    " x o o o o o o o o x\n",
    " x o o o o o o o o x\n",
    " x o o o o o o o o x\n",
    " x o o o o o o o o x\n",
    " x o o o o o o o o x\n",
    " x o o o o o o o o x\n",
    " x x x x x x x x x x\n",
    "```"
   ]
  },
  {
   "cell_type": "code",
   "execution_count": 15,
   "metadata": {},
   "outputs": [
    {
     "name": "stdout",
     "output_type": "stream",
     "text": [
      " x x x x x x x x x x\n",
      " x o o o o o o o o x\n",
      " x o o o o o o o o x\n",
      " x o o o o o o o o x\n",
      " x o o o o o o o o x\n",
      " x o o o o o o o o x\n",
      " x o o o o o o o o x\n",
      " x o o o o o o o o x\n",
      " x o o o o o o o o x\n",
      " x x x x x x x x x x\n"
     ]
    }
   ],
   "source": [
    "import numpy as np\n",
    "N = 10\n",
    "pattern = [[' o' for x in range(N)] for y in range(N)]\n",
    "pattern[0] = [' x' for x in range(N)]\n",
    "pattern[N - 1] = [' x' for x in range(N)]\n",
    "pattern = np.array(pattern)\n",
    "pattern[:, 0] = [' x' for x in range(N)]\n",
    "pattern[:, N-1] = [' x' for x in range(N)]\n",
    "pattern = list(pattern)\n",
    "for row in pattern:\n",
    "    print(''.join(row))"
   ]
  },
  {
   "cell_type": "markdown",
   "metadata": {},
   "source": [
    "#### 3.2)\n",
    "\n",
    "```\n",
    "N = 9\n",
    "\n",
    " x o o o o o o o x\n",
    " o x o o o o o x o\n",
    " o o x o o o x o o\n",
    " o o o x o x o o o\n",
    " o o o o x o o o o\n",
    " o o o x o x o o o\n",
    " o o x o o o x o o\n",
    " o x o o o o o x o\n",
    " x o o o o o o o x\n",
    " \n",
    "N = 10\n",
    "\n",
    " x o o o o o o o o x\n",
    " o x o o o o o o x o\n",
    " o o x o o o o x o o\n",
    " o o o x o o x o o o\n",
    " o o o o x x o o o o\n",
    " o o o o x x o o o o\n",
    " o o o x o o x o o o\n",
    " o o x o o o o x o o\n",
    " o x o o o o o o x o\n",
    " x o o o o o o o o x\n",
    "\n",
    "\n",
    "```"
   ]
  },
  {
   "cell_type": "code",
   "execution_count": 16,
   "metadata": {},
   "outputs": [
    {
     "name": "stdout",
     "output_type": "stream",
     "text": [
      " x o o o o o o o o x\n",
      " o x o o o o o o x o\n",
      " o o x o o o o x o o\n",
      " o o o x o o x o o o\n",
      " o o o o x x o o o o\n",
      " o o o o x x o o o o\n",
      " o o o x o o x o o o\n",
      " o o x o o o o x o o\n",
      " o x o o o o o o x o\n",
      " x o o o o o o o o x\n"
     ]
    }
   ],
   "source": [
    "N = 10\n",
    "pattern = [[' o' for x in range(N)] for y in range(N)]\n",
    "for i in range(N):\n",
    "    for j in range(N):\n",
    "        if i == j:\n",
    "            pattern[i][j] = ' x'\n",
    "        if i == (N-1-j):\n",
    "            pattern[i][j] = ' x'\n",
    "for row in pattern:\n",
    "    print(''.join(row))"
   ]
  },
  {
   "cell_type": "code",
   "execution_count": 17,
   "metadata": {},
   "outputs": [
    {
     "name": "stdout",
     "output_type": "stream",
     "text": [
      " x o o o o o o o x\n",
      " o x o o o o o x o\n",
      " o o x o o o x o o\n",
      " o o o x o x o o o\n",
      " o o o o x o o o o\n",
      " o o o x o x o o o\n",
      " o o x o o o x o o\n",
      " o x o o o o o x o\n",
      " x o o o o o o o x\n"
     ]
    }
   ],
   "source": [
    "N = 9\n",
    "pattern = [[' o' for x in range(N)] for y in range(N)]\n",
    "for i in range(N):\n",
    "    for j in range(N):\n",
    "        if i == j:\n",
    "            pattern[i][j] = ' x'\n",
    "        if i == (N-1-j):\n",
    "            pattern[i][j] = ' x'\n",
    "for row in pattern:\n",
    "    print(''.join(row))"
   ]
  },
  {
   "cell_type": "markdown",
   "metadata": {},
   "source": [
    "#### 3.3)\n",
    "\n",
    "```\n",
    "N = 10\n",
    "\n",
    " o x o x o x o x o x\n",
    " x o x o x o x o x o\n",
    " o x o x o x o x o x\n",
    " x o x o x o x o x o\n",
    " o x o x o x o x o x\n",
    " x o x o x o x o x o\n",
    " o x o x o x o x o x\n",
    " x o x o x o x o x o\n",
    " o x o x o x o x o x\n",
    " x o x o x o x o x o\n",
    "\n",
    "```"
   ]
  },
  {
   "cell_type": "code",
   "execution_count": 18,
   "metadata": {},
   "outputs": [
    {
     "name": "stdout",
     "output_type": "stream",
     "text": [
      " o x o x o x o x o x\n",
      " x o x o x o x o x o\n",
      " o x o x o x o x o x\n",
      " x o x o x o x o x o\n",
      " o x o x o x o x o x\n",
      " x o x o x o x o x o\n",
      " o x o x o x o x o x\n",
      " x o x o x o x o x o\n",
      " o x o x o x o x o x\n",
      " x o x o x o x o x o\n"
     ]
    }
   ],
   "source": [
    "N = 10\n",
    "pattern = [[' o' for x in range(N)] for y in range(N)]\n",
    "\n",
    "for i in range(N):\n",
    "    for j in range(N):\n",
    "        if ((i + j) % 2) == 1:\n",
    "            pattern[i][j] = ' x'\n",
    "        \n",
    "for row in pattern:\n",
    "    print(''.join(row))"
   ]
  },
  {
   "cell_type": "markdown",
   "metadata": {},
   "source": [
    "#### 3.4)\n",
    "\n",
    "```\n",
    "N = 9\n",
    " x x x x x x x x x\n",
    " x x x x o x x x x\n",
    " x x x o o o x x x\n",
    " x x o o o o o x x\n",
    " x o o o o o o o x\n",
    " x x o o o o o x x\n",
    " x x x o o o x x x\n",
    " x x x x o x x x x\n",
    " x x x x x x x x x\n",
    "\n",
    "\n",
    "N = 10\n",
    "\n",
    " x x x x x x x x x x\n",
    " x x x x o o x x x x\n",
    " x x x o o o o x x x\n",
    " x x o o o o o o x x\n",
    " x o o o o o o o o x\n",
    " x o o o o o o o o x\n",
    " x x o o o o o o x x\n",
    " x x x o o o o x x x\n",
    " x x x x o o x x x x\n",
    " x x x x x x x x x x\n",
    "```"
   ]
  },
  {
   "cell_type": "code",
   "execution_count": 19,
   "metadata": {},
   "outputs": [
    {
     "name": "stdout",
     "output_type": "stream",
     "text": [
      " x x x x x x x x x\n",
      " x x x x o x x x x\n",
      " x x x o o o x x x\n",
      " x x o o o o o x x\n",
      " x o o o o o o o x\n",
      " x x o o o o o x x\n",
      " x x x o o o x x x\n",
      " x x x x o x x x x\n",
      " x x x x x x x x x\n"
     ]
    }
   ],
   "source": [
    "N = 9\n",
    "pattern = [[' x' for x in range(N)] for y in range(N)]\n",
    "\n",
    "for i in range(1,N-1,1):\n",
    "    if (N % 2) == 1:\n",
    "        if (i < N/2): \n",
    "            left = np.int((N-1)/2) - i+1\n",
    "            right = np.int((N-1)/2) + i \n",
    "            pattern[i][left:right] = [' o' for n in range((2*i - 1))]\n",
    "        else:\n",
    "            left = np.int((N-1)/2) - (N - i) + 2\n",
    "            right = np.int((N-1)/2) + (N - i) -1\n",
    "            pattern[i][left:right] = [' o' for n in range((2*(N-i-1) - 1))]\n",
    "    else:\n",
    "        if (i < N/2): \n",
    "            left = np.int((N-1)/2) - i+1\n",
    "            right = np.int((N-1)/2) + i + 1\n",
    "            pattern[i][left:right] = [' o' for n in range((2*i))]\n",
    "        else:\n",
    "            left = np.int((N-1)/2) - (N - i) + 2\n",
    "            right = np.int((N-1)/2) + (N - i) \n",
    "            pattern[i][left:right] = [' o' for n in range((2*(N-i-1)))]\n",
    "        \n",
    "for row in pattern:\n",
    "    print(''.join(row))"
   ]
  },
  {
   "cell_type": "code",
   "execution_count": 20,
   "metadata": {},
   "outputs": [
    {
     "name": "stdout",
     "output_type": "stream",
     "text": [
      " x x x x x x x x x x\n",
      " x x x x o o x x x x\n",
      " x x x o o o o x x x\n",
      " x x o o o o o o x x\n",
      " x o o o o o o o o x\n",
      " x o o o o o o o o x\n",
      " x x o o o o o o x x\n",
      " x x x o o o o x x x\n",
      " x x x x o o x x x x\n",
      " x x x x x x x x x x\n"
     ]
    }
   ],
   "source": [
    "N = 10\n",
    "pattern = [[' x' for x in range(N)] for y in range(N)]\n",
    "\n",
    "for i in range(1,N-1,1):\n",
    "    if (N % 2) == 1:\n",
    "        if (i < N/2): \n",
    "            left = np.int((N-1)/2) - i+1\n",
    "            right = np.int((N-1)/2) + i \n",
    "            pattern[i][left:right] = [' o' for n in range((2*i - 1))]\n",
    "        else:\n",
    "            left = np.int((N-1)/2) - (N - i) + 2\n",
    "            right = np.int((N-1)/2) + (N - i) -1\n",
    "            pattern[i][left:right] = [' o' for n in range((2*(N-i-1) - 1))]\n",
    "    else:\n",
    "        if (i < N/2): \n",
    "            left = np.int((N-1)/2) - i+1\n",
    "            right = np.int((N-1)/2) + i + 1\n",
    "            pattern[i][left:right] = [' o' for n in range((2*i))]\n",
    "        else:\n",
    "            left = np.int((N-1)/2) - (N - i) + 2\n",
    "            right = np.int((N-1)/2) + (N - i) \n",
    "            pattern[i][left:right] = [' o' for n in range((2*(N-i-1)))]\n",
    "        \n",
    "for row in pattern:\n",
    "    print(''.join(row))"
   ]
  },
  {
   "cell_type": "code",
   "execution_count": null,
   "metadata": {},
   "outputs": [],
   "source": []
  }
 ],
 "metadata": {
  "kernelspec": {
   "display_name": "Python 3",
   "language": "python",
   "name": "python3"
  },
  "language_info": {
   "codemirror_mode": {
    "name": "ipython",
    "version": 3
   },
   "file_extension": ".py",
   "mimetype": "text/x-python",
   "name": "python",
   "nbconvert_exporter": "python",
   "pygments_lexer": "ipython3",
   "version": "3.6.6"
  }
 },
 "nbformat": 4,
 "nbformat_minor": 2
}
